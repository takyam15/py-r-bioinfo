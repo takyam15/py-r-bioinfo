{
 "cells": [
  {
   "cell_type": "code",
   "execution_count": 1,
   "id": "1555cd78-387f-4cf7-b594-ffa20ef8c4ff",
   "metadata": {},
   "outputs": [],
   "source": [
    "import os\n",
    "\n",
    "import psycopg2\n",
    "from dotenv import load_dotenv"
   ]
  },
  {
   "cell_type": "code",
   "execution_count": 2,
   "id": "1bb8097d-d046-46d3-b080-1f23989f191b",
   "metadata": {},
   "outputs": [
    {
     "name": "stdout",
     "output_type": "stream",
     "text": [
      "('PostgreSQL 14.4 (Debian 14.4-1.pgdg110+1) on x86_64-pc-linux-gnu, compiled by gcc (Debian 10.2.1-6) 10.2.1 20210110, 64-bit',)\n"
     ]
    }
   ],
   "source": [
    "load_dotenv()\n",
    "conn = psycopg2.connect(\n",
    "    dbname=os.environ['POSTGRES_DB'],\n",
    "    user=os.environ['POSTGRES_USER'],\n",
    "    password=os.environ['POSTGRES_PASSWORD'],\n",
    "    host='postgres'\n",
    ")\n",
    "with conn:\n",
    "    with conn.cursor() as curs:\n",
    "        curs.execute('SELECT VERSION()')\n",
    "        print(curs.fetchone())\n",
    "conn.close()"
   ]
  }
 ],
 "metadata": {
  "kernelspec": {
   "display_name": "Python 3 (ipykernel)",
   "language": "python",
   "name": "python3"
  },
  "language_info": {
   "codemirror_mode": {
    "name": "ipython",
    "version": 3
   },
   "file_extension": ".py",
   "mimetype": "text/x-python",
   "name": "python",
   "nbconvert_exporter": "python",
   "pygments_lexer": "ipython3",
   "version": "3.7.12"
  }
 },
 "nbformat": 4,
 "nbformat_minor": 5
}
